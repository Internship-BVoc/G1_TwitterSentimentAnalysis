{
  "nbformat": 4,
  "nbformat_minor": 0,
  "metadata": {
    "colab": {
      "name": "Sentiment analysis on twitter dataset.ipynb",
      "provenance": []
    },
    "kernelspec": {
      "name": "python3",
      "display_name": "Python 3"
    }
  },
  "cells": [
    {
      "cell_type": "code",
      "metadata": {
        "id": "aahHUPqWaOkv",
        "colab_type": "code",
        "colab": {
          "base_uri": "https://localhost:8080/",
          "height": 118
        },
        "outputId": "6af8e904-a67a-4f76-f857-3fbf498a03a6"
      },
      "source": [
        "import pandas as pd\n",
        "import numpy as np\n",
        "import nltk,spacy,re\n",
        "from  nltk.tokenize import word_tokenize\n",
        "from nltk.corpus import stopwords\n",
        "from nltk.stem import WordNetLemmatizer\n",
        "from bs4 import BeautifulSoup\n",
        "nltk.download('punkt')\n",
        "nltk.download('stopwords')\n",
        "nltk.download('wordnet')\n",
        "lemmatizer = WordNetLemmatizer()"
      ],
      "execution_count": 187,
      "outputs": [
        {
          "output_type": "stream",
          "text": [
            "[nltk_data] Downloading package punkt to /root/nltk_data...\n",
            "[nltk_data]   Package punkt is already up-to-date!\n",
            "[nltk_data] Downloading package stopwords to /root/nltk_data...\n",
            "[nltk_data]   Package stopwords is already up-to-date!\n",
            "[nltk_data] Downloading package wordnet to /root/nltk_data...\n",
            "[nltk_data]   Package wordnet is already up-to-date!\n"
          ],
          "name": "stdout"
        }
      ]
    },
    {
      "cell_type": "code",
      "metadata": {
        "id": "48j3mFVmcuE6",
        "colab_type": "code",
        "colab": {}
      },
      "source": [
        "tweets_df = pd.read_csv('/content/Tweets-A.csv')"
      ],
      "execution_count": 188,
      "outputs": []
    },
    {
      "cell_type": "code",
      "metadata": {
        "id": "ZnU5FGXOdSnj",
        "colab_type": "code",
        "colab": {
          "base_uri": "https://localhost:8080/",
          "height": 402
        },
        "outputId": "5e95e501-d995-40a7-a1b7-bc865f7c70e7"
      },
      "source": [
        "tweets_df"
      ],
      "execution_count": 189,
      "outputs": [
        {
          "output_type": "execute_result",
          "data": {
            "text/html": [
              "<div>\n",
              "<style scoped>\n",
              "    .dataframe tbody tr th:only-of-type {\n",
              "        vertical-align: middle;\n",
              "    }\n",
              "\n",
              "    .dataframe tbody tr th {\n",
              "        vertical-align: top;\n",
              "    }\n",
              "\n",
              "    .dataframe thead th {\n",
              "        text-align: right;\n",
              "    }\n",
              "</style>\n",
              "<table border=\"1\" class=\"dataframe\">\n",
              "  <thead>\n",
              "    <tr style=\"text-align: right;\">\n",
              "      <th></th>\n",
              "      <th>tweet_id</th>\n",
              "      <th>airline_sentiment</th>\n",
              "      <th>name</th>\n",
              "      <th>text</th>\n",
              "      <th>tweet_coord</th>\n",
              "      <th>tweet_created</th>\n",
              "      <th>tweet_location</th>\n",
              "      <th>user_timezone</th>\n",
              "    </tr>\n",
              "  </thead>\n",
              "  <tbody>\n",
              "    <tr>\n",
              "      <th>0</th>\n",
              "      <td>5.703060e+17</td>\n",
              "      <td>neutral</td>\n",
              "      <td>cairdin</td>\n",
              "      <td>@VirginAmerica What @dhepburn said.</td>\n",
              "      <td>NaN</td>\n",
              "      <td>24/02/15 11:35</td>\n",
              "      <td>NaN</td>\n",
              "      <td>Eastern Time (US &amp; Canada)</td>\n",
              "    </tr>\n",
              "    <tr>\n",
              "      <th>1</th>\n",
              "      <td>5.703010e+17</td>\n",
              "      <td>positive</td>\n",
              "      <td>jnardino</td>\n",
              "      <td>@VirginAmerica plus you've added commercials t...</td>\n",
              "      <td>NaN</td>\n",
              "      <td>24/02/15 11:15</td>\n",
              "      <td>NaN</td>\n",
              "      <td>Pacific Time (US &amp; Canada)</td>\n",
              "    </tr>\n",
              "    <tr>\n",
              "      <th>2</th>\n",
              "      <td>5.703010e+17</td>\n",
              "      <td>neutral</td>\n",
              "      <td>yvonnalynn</td>\n",
              "      <td>@VirginAmerica I didn't today... Must mean I n...</td>\n",
              "      <td>NaN</td>\n",
              "      <td>24/02/15 11:15</td>\n",
              "      <td>Lets Play</td>\n",
              "      <td>Central Time (US &amp; Canada)</td>\n",
              "    </tr>\n",
              "    <tr>\n",
              "      <th>3</th>\n",
              "      <td>5.703010e+17</td>\n",
              "      <td>negative</td>\n",
              "      <td>jnardino</td>\n",
              "      <td>@VirginAmerica it's really aggressive to blast...</td>\n",
              "      <td>NaN</td>\n",
              "      <td>24/02/15 11:15</td>\n",
              "      <td>NaN</td>\n",
              "      <td>Pacific Time (US &amp; Canada)</td>\n",
              "    </tr>\n",
              "    <tr>\n",
              "      <th>4</th>\n",
              "      <td>5.703010e+17</td>\n",
              "      <td>negative</td>\n",
              "      <td>jnardino</td>\n",
              "      <td>@VirginAmerica and it's a really big bad thing...</td>\n",
              "      <td>NaN</td>\n",
              "      <td>24/02/15 11:14</td>\n",
              "      <td>NaN</td>\n",
              "      <td>Pacific Time (US &amp; Canada)</td>\n",
              "    </tr>\n",
              "    <tr>\n",
              "      <th>...</th>\n",
              "      <td>...</td>\n",
              "      <td>...</td>\n",
              "      <td>...</td>\n",
              "      <td>...</td>\n",
              "      <td>...</td>\n",
              "      <td>...</td>\n",
              "      <td>...</td>\n",
              "      <td>...</td>\n",
              "    </tr>\n",
              "    <tr>\n",
              "      <th>14635</th>\n",
              "      <td>5.695880e+17</td>\n",
              "      <td>positive</td>\n",
              "      <td>KristenReenders</td>\n",
              "      <td>@AmericanAir thank you we got on a different f...</td>\n",
              "      <td>NaN</td>\n",
              "      <td>22/02/15 12:01</td>\n",
              "      <td>NaN</td>\n",
              "      <td>NaN</td>\n",
              "    </tr>\n",
              "    <tr>\n",
              "      <th>14636</th>\n",
              "      <td>5.695870e+17</td>\n",
              "      <td>negative</td>\n",
              "      <td>itsropes</td>\n",
              "      <td>@AmericanAir leaving over 20 minutes Late Flig...</td>\n",
              "      <td>NaN</td>\n",
              "      <td>22/02/15 11:59</td>\n",
              "      <td>Texas</td>\n",
              "      <td>NaN</td>\n",
              "    </tr>\n",
              "    <tr>\n",
              "      <th>14637</th>\n",
              "      <td>5.695870e+17</td>\n",
              "      <td>neutral</td>\n",
              "      <td>sanyabun</td>\n",
              "      <td>@AmericanAir Please bring American Airlines to...</td>\n",
              "      <td>NaN</td>\n",
              "      <td>22/02/15 11:59</td>\n",
              "      <td>Nigeria,lagos</td>\n",
              "      <td>NaN</td>\n",
              "    </tr>\n",
              "    <tr>\n",
              "      <th>14638</th>\n",
              "      <td>5.695870e+17</td>\n",
              "      <td>negative</td>\n",
              "      <td>SraJackson</td>\n",
              "      <td>@AmericanAir you have my money, you change my ...</td>\n",
              "      <td>NaN</td>\n",
              "      <td>22/02/15 11:59</td>\n",
              "      <td>New Jersey</td>\n",
              "      <td>Eastern Time (US &amp; Canada)</td>\n",
              "    </tr>\n",
              "    <tr>\n",
              "      <th>14639</th>\n",
              "      <td>5.695870e+17</td>\n",
              "      <td>neutral</td>\n",
              "      <td>daviddtwu</td>\n",
              "      <td>@AmericanAir we have 8 ppl so we need 2 know h...</td>\n",
              "      <td>NaN</td>\n",
              "      <td>22/02/15 11:58</td>\n",
              "      <td>dallas, TX</td>\n",
              "      <td>NaN</td>\n",
              "    </tr>\n",
              "  </tbody>\n",
              "</table>\n",
              "<p>14640 rows × 8 columns</p>\n",
              "</div>"
            ],
            "text/plain": [
              "           tweet_id  ...               user_timezone\n",
              "0      5.703060e+17  ...  Eastern Time (US & Canada)\n",
              "1      5.703010e+17  ...  Pacific Time (US & Canada)\n",
              "2      5.703010e+17  ...  Central Time (US & Canada)\n",
              "3      5.703010e+17  ...  Pacific Time (US & Canada)\n",
              "4      5.703010e+17  ...  Pacific Time (US & Canada)\n",
              "...             ...  ...                         ...\n",
              "14635  5.695880e+17  ...                         NaN\n",
              "14636  5.695870e+17  ...                         NaN\n",
              "14637  5.695870e+17  ...                         NaN\n",
              "14638  5.695870e+17  ...  Eastern Time (US & Canada)\n",
              "14639  5.695870e+17  ...                         NaN\n",
              "\n",
              "[14640 rows x 8 columns]"
            ]
          },
          "metadata": {
            "tags": []
          },
          "execution_count": 189
        }
      ]
    },
    {
      "cell_type": "code",
      "metadata": {
        "id": "a2tdn1jMdaU3",
        "colab_type": "code",
        "colab": {
          "base_uri": "https://localhost:8080/",
          "height": 67
        },
        "outputId": "0b125c41-be27-4e39-ddba-59b26e6eeffb"
      },
      "source": [
        "tweets_df.columns"
      ],
      "execution_count": 190,
      "outputs": [
        {
          "output_type": "execute_result",
          "data": {
            "text/plain": [
              "Index(['tweet_id', 'airline_sentiment', 'name', 'text', 'tweet_coord',\n",
              "       'tweet_created', 'tweet_location', 'user_timezone'],\n",
              "      dtype='object')"
            ]
          },
          "metadata": {
            "tags": []
          },
          "execution_count": 190
        }
      ]
    },
    {
      "cell_type": "code",
      "metadata": {
        "id": "lFCQDm1Lcgm0",
        "colab_type": "code",
        "colab": {
          "base_uri": "https://localhost:8080/",
          "height": 269
        },
        "outputId": "cd09b583-8c84-41ad-c286-2c59e9351eaf"
      },
      "source": [
        "tweets_df.info()"
      ],
      "execution_count": 191,
      "outputs": [
        {
          "output_type": "stream",
          "text": [
            "<class 'pandas.core.frame.DataFrame'>\n",
            "RangeIndex: 14640 entries, 0 to 14639\n",
            "Data columns (total 8 columns):\n",
            " #   Column             Non-Null Count  Dtype  \n",
            "---  ------             --------------  -----  \n",
            " 0   tweet_id           14640 non-null  float64\n",
            " 1   airline_sentiment  14640 non-null  object \n",
            " 2   name               14640 non-null  object \n",
            " 3   text               14640 non-null  object \n",
            " 4   tweet_coord        1019 non-null   object \n",
            " 5   tweet_created      14640 non-null  object \n",
            " 6   tweet_location     9907 non-null   object \n",
            " 7   user_timezone      9820 non-null   object \n",
            "dtypes: float64(1), object(7)\n",
            "memory usage: 915.1+ KB\n"
          ],
          "name": "stdout"
        }
      ]
    },
    {
      "cell_type": "code",
      "metadata": {
        "id": "Rf0zd7hnhEOq",
        "colab_type": "code",
        "colab": {
          "base_uri": "https://localhost:8080/",
          "height": 151
        },
        "outputId": "0769df6b-3f53-49ef-9096-d561f04cd871"
      },
      "source": [
        "#Missing data percentage list\n",
        "for col in tweets_df.columns:\n",
        "    pct_missing = np.mean(tweets_df[col].isnull())\n",
        "    print('{} - {}%'.format(col, round(pct_missing*100)))"
      ],
      "execution_count": 192,
      "outputs": [
        {
          "output_type": "stream",
          "text": [
            "tweet_id - 0.0%\n",
            "airline_sentiment - 0.0%\n",
            "name - 0.0%\n",
            "text - 0.0%\n",
            "tweet_coord - 93.0%\n",
            "tweet_created - 0.0%\n",
            "tweet_location - 32.0%\n",
            "user_timezone - 33.0%\n"
          ],
          "name": "stdout"
        }
      ]
    },
    {
      "cell_type": "code",
      "metadata": {
        "id": "yENZUb0NpTIe",
        "colab_type": "code",
        "colab": {
          "base_uri": "https://localhost:8080/",
          "height": 402
        },
        "outputId": "44bcb6e6-2ee0-42af-baaf-aa65dd4debf5"
      },
      "source": [
        "#TweetId is primary key.......Tweet_cord has more than 80% of missing rows so dropped it\n",
        "tsa_df = tweets_df.drop(columns = ['tweet_id','tweet_coord'])\n",
        "tsa_df"
      ],
      "execution_count": 193,
      "outputs": [
        {
          "output_type": "execute_result",
          "data": {
            "text/html": [
              "<div>\n",
              "<style scoped>\n",
              "    .dataframe tbody tr th:only-of-type {\n",
              "        vertical-align: middle;\n",
              "    }\n",
              "\n",
              "    .dataframe tbody tr th {\n",
              "        vertical-align: top;\n",
              "    }\n",
              "\n",
              "    .dataframe thead th {\n",
              "        text-align: right;\n",
              "    }\n",
              "</style>\n",
              "<table border=\"1\" class=\"dataframe\">\n",
              "  <thead>\n",
              "    <tr style=\"text-align: right;\">\n",
              "      <th></th>\n",
              "      <th>airline_sentiment</th>\n",
              "      <th>name</th>\n",
              "      <th>text</th>\n",
              "      <th>tweet_created</th>\n",
              "      <th>tweet_location</th>\n",
              "      <th>user_timezone</th>\n",
              "    </tr>\n",
              "  </thead>\n",
              "  <tbody>\n",
              "    <tr>\n",
              "      <th>0</th>\n",
              "      <td>neutral</td>\n",
              "      <td>cairdin</td>\n",
              "      <td>@VirginAmerica What @dhepburn said.</td>\n",
              "      <td>24/02/15 11:35</td>\n",
              "      <td>NaN</td>\n",
              "      <td>Eastern Time (US &amp; Canada)</td>\n",
              "    </tr>\n",
              "    <tr>\n",
              "      <th>1</th>\n",
              "      <td>positive</td>\n",
              "      <td>jnardino</td>\n",
              "      <td>@VirginAmerica plus you've added commercials t...</td>\n",
              "      <td>24/02/15 11:15</td>\n",
              "      <td>NaN</td>\n",
              "      <td>Pacific Time (US &amp; Canada)</td>\n",
              "    </tr>\n",
              "    <tr>\n",
              "      <th>2</th>\n",
              "      <td>neutral</td>\n",
              "      <td>yvonnalynn</td>\n",
              "      <td>@VirginAmerica I didn't today... Must mean I n...</td>\n",
              "      <td>24/02/15 11:15</td>\n",
              "      <td>Lets Play</td>\n",
              "      <td>Central Time (US &amp; Canada)</td>\n",
              "    </tr>\n",
              "    <tr>\n",
              "      <th>3</th>\n",
              "      <td>negative</td>\n",
              "      <td>jnardino</td>\n",
              "      <td>@VirginAmerica it's really aggressive to blast...</td>\n",
              "      <td>24/02/15 11:15</td>\n",
              "      <td>NaN</td>\n",
              "      <td>Pacific Time (US &amp; Canada)</td>\n",
              "    </tr>\n",
              "    <tr>\n",
              "      <th>4</th>\n",
              "      <td>negative</td>\n",
              "      <td>jnardino</td>\n",
              "      <td>@VirginAmerica and it's a really big bad thing...</td>\n",
              "      <td>24/02/15 11:14</td>\n",
              "      <td>NaN</td>\n",
              "      <td>Pacific Time (US &amp; Canada)</td>\n",
              "    </tr>\n",
              "    <tr>\n",
              "      <th>...</th>\n",
              "      <td>...</td>\n",
              "      <td>...</td>\n",
              "      <td>...</td>\n",
              "      <td>...</td>\n",
              "      <td>...</td>\n",
              "      <td>...</td>\n",
              "    </tr>\n",
              "    <tr>\n",
              "      <th>14635</th>\n",
              "      <td>positive</td>\n",
              "      <td>KristenReenders</td>\n",
              "      <td>@AmericanAir thank you we got on a different f...</td>\n",
              "      <td>22/02/15 12:01</td>\n",
              "      <td>NaN</td>\n",
              "      <td>NaN</td>\n",
              "    </tr>\n",
              "    <tr>\n",
              "      <th>14636</th>\n",
              "      <td>negative</td>\n",
              "      <td>itsropes</td>\n",
              "      <td>@AmericanAir leaving over 20 minutes Late Flig...</td>\n",
              "      <td>22/02/15 11:59</td>\n",
              "      <td>Texas</td>\n",
              "      <td>NaN</td>\n",
              "    </tr>\n",
              "    <tr>\n",
              "      <th>14637</th>\n",
              "      <td>neutral</td>\n",
              "      <td>sanyabun</td>\n",
              "      <td>@AmericanAir Please bring American Airlines to...</td>\n",
              "      <td>22/02/15 11:59</td>\n",
              "      <td>Nigeria,lagos</td>\n",
              "      <td>NaN</td>\n",
              "    </tr>\n",
              "    <tr>\n",
              "      <th>14638</th>\n",
              "      <td>negative</td>\n",
              "      <td>SraJackson</td>\n",
              "      <td>@AmericanAir you have my money, you change my ...</td>\n",
              "      <td>22/02/15 11:59</td>\n",
              "      <td>New Jersey</td>\n",
              "      <td>Eastern Time (US &amp; Canada)</td>\n",
              "    </tr>\n",
              "    <tr>\n",
              "      <th>14639</th>\n",
              "      <td>neutral</td>\n",
              "      <td>daviddtwu</td>\n",
              "      <td>@AmericanAir we have 8 ppl so we need 2 know h...</td>\n",
              "      <td>22/02/15 11:58</td>\n",
              "      <td>dallas, TX</td>\n",
              "      <td>NaN</td>\n",
              "    </tr>\n",
              "  </tbody>\n",
              "</table>\n",
              "<p>14640 rows × 6 columns</p>\n",
              "</div>"
            ],
            "text/plain": [
              "      airline_sentiment  ...               user_timezone\n",
              "0               neutral  ...  Eastern Time (US & Canada)\n",
              "1              positive  ...  Pacific Time (US & Canada)\n",
              "2               neutral  ...  Central Time (US & Canada)\n",
              "3              negative  ...  Pacific Time (US & Canada)\n",
              "4              negative  ...  Pacific Time (US & Canada)\n",
              "...                 ...  ...                         ...\n",
              "14635          positive  ...                         NaN\n",
              "14636          negative  ...                         NaN\n",
              "14637           neutral  ...                         NaN\n",
              "14638          negative  ...  Eastern Time (US & Canada)\n",
              "14639           neutral  ...                         NaN\n",
              "\n",
              "[14640 rows x 6 columns]"
            ]
          },
          "metadata": {
            "tags": []
          },
          "execution_count": 193
        }
      ]
    },
    {
      "cell_type": "code",
      "metadata": {
        "id": "sn4Rxerf5fCl",
        "colab_type": "code",
        "colab": {
          "base_uri": "https://localhost:8080/",
          "height": 218
        },
        "outputId": "3eab14fc-f6b3-4f75-f2c9-0feaef7bf3d0"
      },
      "source": [
        "#Checking the occurence of each location\n",
        "tsa_df[\"tweet_location\"].value_counts()"
      ],
      "execution_count": 194,
      "outputs": [
        {
          "output_type": "execute_result",
          "data": {
            "text/plain": [
              "Boston, MA                       157\n",
              "New York, NY                     156\n",
              "Washington, DC                   150\n",
              "New York                         127\n",
              "USA                              126\n",
              "                                ... \n",
              "Grand Rapids,MI & Orlando, FL      1\n",
              "Winter Park, FL                    1\n",
              "-тнαт νσι¢є ιиѕι∂є уσυя нєα∂       1\n",
              "Rijswijk ♡ The Netherlands         1\n",
              "Richmond Virginia                  1\n",
              "Name: tweet_location, Length: 3081, dtype: int64"
            ]
          },
          "metadata": {
            "tags": []
          },
          "execution_count": 194
        }
      ]
    },
    {
      "cell_type": "code",
      "metadata": {
        "id": "UosOxsO15lkN",
        "colab_type": "code",
        "colab": {}
      },
      "source": [
        "#Boston, MA occured many times so null values can be replaced by Boston, MA in tweet_location column\n",
        "tsa_df['tweet_location'].fillna('Boston, MA', inplace = True)"
      ],
      "execution_count": 196,
      "outputs": []
    },
    {
      "cell_type": "code",
      "metadata": {
        "id": "P9wWz0tr5rRD",
        "colab_type": "code",
        "colab": {
          "base_uri": "https://localhost:8080/",
          "height": 218
        },
        "outputId": "3a2b7f2b-0220-4e3e-ca5d-745e365a3f6a"
      },
      "source": [
        "#Checking the occurence of each timezone\n",
        "tsa_df[\"user_timezone\"].value_counts()"
      ],
      "execution_count": 197,
      "outputs": [
        {
          "output_type": "execute_result",
          "data": {
            "text/plain": [
              "Eastern Time (US & Canada)    3744\n",
              "Central Time (US & Canada)    1931\n",
              "Pacific Time (US & Canada)    1208\n",
              "Quito                          738\n",
              "Atlantic Time (Canada)         497\n",
              "                              ... \n",
              "Prague                           1\n",
              "Pretoria                         1\n",
              "Saskatchewan                     1\n",
              "Canberra                         1\n",
              "America/Detroit                  1\n",
              "Name: user_timezone, Length: 85, dtype: int64"
            ]
          },
          "metadata": {
            "tags": []
          },
          "execution_count": 197
        }
      ]
    },
    {
      "cell_type": "code",
      "metadata": {
        "id": "XAb-z_oZ5wt6",
        "colab_type": "code",
        "colab": {}
      },
      "source": [
        "#Eastern Time (US & Canada) occured many times so null values can be replaced by Eastern Time (US & Canada) in user_timezone column\n",
        "tsa_df['user_timezone'].fillna('Eastern Time (US & Canada)', inplace = True)"
      ],
      "execution_count": 198,
      "outputs": []
    },
    {
      "cell_type": "code",
      "metadata": {
        "id": "_MLXlwQ3ka_a",
        "colab_type": "code",
        "colab": {}
      },
      "source": [
        "#Column ['Text'] pre-processing by converting it to lower case\n",
        "tsa_df.text = tsa_df.text.apply(lambda text:text.lower() if type(text) == str else text)"
      ],
      "execution_count": 200,
      "outputs": []
    },
    {
      "cell_type": "code",
      "metadata": {
        "id": "obBQBto0lLNv",
        "colab_type": "code",
        "colab": {}
      },
      "source": [
        "#HREF Links Removal\n",
        "tsa_df.text = tsa_df.text.apply(lambda text: re.compile(r'https?://\\S+|www\\.\\S+').sub(r'',text))"
      ],
      "execution_count": 201,
      "outputs": []
    },
    {
      "cell_type": "code",
      "metadata": {
        "id": "Om7HeX-olN2U",
        "colab_type": "code",
        "colab": {}
      },
      "source": [
        "#HTML Text Removal\n",
        "tsa_df.text = tsa_df.text.apply(lambda text: BeautifulSoup(text,'html.parser').text)"
      ],
      "execution_count": 202,
      "outputs": []
    },
    {
      "cell_type": "code",
      "metadata": {
        "id": "szI2TUKflQT1",
        "colab_type": "code",
        "colab": {}
      },
      "source": [
        "#HashTags Separation And Merging\n",
        "tsa_df['hashtags'] = [ [ tag[1: ] for tag in i.split() if tag.startswith('#') ] for i in tsa_df.text ]"
      ],
      "execution_count": 203,
      "outputs": []
    },
    {
      "cell_type": "code",
      "metadata": {
        "id": "yj1h1KBllSx7",
        "colab_type": "code",
        "colab": {}
      },
      "source": [
        "#@Entities Separation And Merging\n",
        "tsa_df['tags'] = [ [ ent[1: ] for ent in i.split() if ent.startswith(\"@\") ] for i in tsa_df.text ]"
      ],
      "execution_count": 204,
      "outputs": []
    },
    {
      "cell_type": "code",
      "metadata": {
        "id": "hXl5GHbllVj3",
        "colab_type": "code",
        "colab": {}
      },
      "source": [
        "#Punctuations Removal\n",
        "tsa_df.text = tsa_df.text.str.replace('[^\\w\\s]','')"
      ],
      "execution_count": 205,
      "outputs": []
    },
    {
      "cell_type": "code",
      "metadata": {
        "id": "53ugAjkDlYIU",
        "colab_type": "code",
        "colab": {}
      },
      "source": [
        "#StopWords Removal\n",
        "tsa_df.text = [ \" \".join(([word for word in word_tokenize(i) if not word in list((stopwords.words('english')))]))  for i in tsa_df.text ]"
      ],
      "execution_count": 206,
      "outputs": []
    },
    {
      "cell_type": "code",
      "metadata": {
        "id": "6w-3yqxPliar",
        "colab_type": "code",
        "colab": {}
      },
      "source": [
        "#Lemmatization - Aiming to remove inflectional endings and return the base meaning or dictionary meaning of a word also known as lemma\n",
        "tsa_df.text = tsa_df.text.apply(lambda text: lemmatizer.lemmatize(text))"
      ],
      "execution_count": 207,
      "outputs": []
    },
    {
      "cell_type": "code",
      "metadata": {
        "id": "-40t5Wg_lppy",
        "colab_type": "code",
        "colab": {
          "base_uri": "https://localhost:8080/",
          "height": 195
        },
        "outputId": "39dce5db-cba8-4225-cc29-a65a40448e47"
      },
      "source": [
        "tsa_df.head()"
      ],
      "execution_count": 208,
      "outputs": [
        {
          "output_type": "execute_result",
          "data": {
            "text/html": [
              "<div>\n",
              "<style scoped>\n",
              "    .dataframe tbody tr th:only-of-type {\n",
              "        vertical-align: middle;\n",
              "    }\n",
              "\n",
              "    .dataframe tbody tr th {\n",
              "        vertical-align: top;\n",
              "    }\n",
              "\n",
              "    .dataframe thead th {\n",
              "        text-align: right;\n",
              "    }\n",
              "</style>\n",
              "<table border=\"1\" class=\"dataframe\">\n",
              "  <thead>\n",
              "    <tr style=\"text-align: right;\">\n",
              "      <th></th>\n",
              "      <th>airline_sentiment</th>\n",
              "      <th>name</th>\n",
              "      <th>text</th>\n",
              "      <th>tweet_created</th>\n",
              "      <th>tweet_location</th>\n",
              "      <th>user_timezone</th>\n",
              "      <th>hashtags</th>\n",
              "      <th>tags</th>\n",
              "    </tr>\n",
              "  </thead>\n",
              "  <tbody>\n",
              "    <tr>\n",
              "      <th>0</th>\n",
              "      <td>neutral</td>\n",
              "      <td>cairdin</td>\n",
              "      <td>virginamerica dhepburn said</td>\n",
              "      <td>24/02/15 11:35</td>\n",
              "      <td>Boston, MA</td>\n",
              "      <td>Eastern Time (US &amp; Canada)</td>\n",
              "      <td>[]</td>\n",
              "      <td>[virginamerica, dhepburn]</td>\n",
              "    </tr>\n",
              "    <tr>\n",
              "      <th>1</th>\n",
              "      <td>positive</td>\n",
              "      <td>jnardino</td>\n",
              "      <td>virginamerica plus youve added commercials exp...</td>\n",
              "      <td>24/02/15 11:15</td>\n",
              "      <td>Boston, MA</td>\n",
              "      <td>Pacific Time (US &amp; Canada)</td>\n",
              "      <td>[]</td>\n",
              "      <td>[virginamerica]</td>\n",
              "    </tr>\n",
              "    <tr>\n",
              "      <th>2</th>\n",
              "      <td>neutral</td>\n",
              "      <td>yvonnalynn</td>\n",
              "      <td>virginamerica didnt today must mean need take ...</td>\n",
              "      <td>24/02/15 11:15</td>\n",
              "      <td>Lets Play</td>\n",
              "      <td>Central Time (US &amp; Canada)</td>\n",
              "      <td>[]</td>\n",
              "      <td>[virginamerica]</td>\n",
              "    </tr>\n",
              "    <tr>\n",
              "      <th>3</th>\n",
              "      <td>negative</td>\n",
              "      <td>jnardino</td>\n",
              "      <td>virginamerica really aggressive blast obnoxiou...</td>\n",
              "      <td>24/02/15 11:15</td>\n",
              "      <td>Boston, MA</td>\n",
              "      <td>Pacific Time (US &amp; Canada)</td>\n",
              "      <td>[]</td>\n",
              "      <td>[virginamerica]</td>\n",
              "    </tr>\n",
              "    <tr>\n",
              "      <th>4</th>\n",
              "      <td>negative</td>\n",
              "      <td>jnardino</td>\n",
              "      <td>virginamerica really big bad thing</td>\n",
              "      <td>24/02/15 11:14</td>\n",
              "      <td>Boston, MA</td>\n",
              "      <td>Pacific Time (US &amp; Canada)</td>\n",
              "      <td>[]</td>\n",
              "      <td>[virginamerica]</td>\n",
              "    </tr>\n",
              "  </tbody>\n",
              "</table>\n",
              "</div>"
            ],
            "text/plain": [
              "  airline_sentiment        name  ... hashtags                       tags\n",
              "0           neutral     cairdin  ...       []  [virginamerica, dhepburn]\n",
              "1          positive    jnardino  ...       []            [virginamerica]\n",
              "2           neutral  yvonnalynn  ...       []            [virginamerica]\n",
              "3          negative    jnardino  ...       []            [virginamerica]\n",
              "4          negative    jnardino  ...       []            [virginamerica]\n",
              "\n",
              "[5 rows x 8 columns]"
            ]
          },
          "metadata": {
            "tags": []
          },
          "execution_count": 208
        }
      ]
    }
  ]
}